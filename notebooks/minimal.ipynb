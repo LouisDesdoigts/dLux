{
 "cells": [
  {
   "cell_type": "code",
   "execution_count": 2,
   "id": "ac6fdac3",
   "metadata": {},
   "outputs": [],
   "source": [
    "import jax\n",
    "from jax.config import config\n",
    "config.update(\"jax_enable_x64\", True)"
   ]
  },
  {
   "cell_type": "code",
   "execution_count": 3,
   "id": "eb9e1de4",
   "metadata": {},
   "outputs": [
    {
     "name": "stderr",
     "output_type": "stream",
     "text": [
      "WARNING:absl:No GPU/TPU found, falling back to CPU. (Set TF_CPP_MIN_LOG_LEVEL=0 and rerun for more info.)\n"
     ]
    }
   ],
   "source": [
    "from dLux.base import OpticalSystem, Scene\n",
    "from dLux import layers as l\n",
    "from dLux import propagators as p"
   ]
  },
  {
   "cell_type": "code",
   "execution_count": 4,
   "id": "bf5895c5",
   "metadata": {},
   "outputs": [],
   "source": [
    "import jax.numpy as np\n",
    "import matplotlib.pyplot as plt"
   ]
  },
  {
   "cell_type": "code",
   "execution_count": 5,
   "id": "1cfb243f",
   "metadata": {},
   "outputs": [],
   "source": [
    "layers = [\n",
    "    l.CreateWavefront(256, 1.),\n",
    "    l.NormaliseWavefront(256),\n",
    "    p.MFT(256, 256, 1, 10, 1e-6),\n",
    "    l.Wavefront2PSF(256)\n",
    "]\n",
    "\n",
    "wavels = np.array([5e-7])\n",
    "positions = np.array([0, 0])\n",
    "fluxes = np.array([1])"
   ]
  },
  {
   "cell_type": "code",
   "execution_count": 6,
   "id": "45f725f6",
   "metadata": {},
   "outputs": [],
   "source": [
    "\n",
    "osys = OpticalSystem(layers)\n",
    "\n",
    "scene = Scene(osys, wavels, positions, fluxes)\n",
    "psf = scene()[0]"
   ]
  },
  {
   "cell_type": "code",
   "execution_count": 7,
   "id": "6a734ca3",
   "metadata": {},
   "outputs": [
    {
     "data": {
      "image/png": "[encoded data removed]",
      "text/plain": [
       "<Figure size 432x288 with 2 Axes>"
      ]
     },
     "metadata": {
      "needs_background": "light"
     },
     "output_type": "display_data"
    }
   ],
   "source": [
    "plt.imshow(psf**0.5)\n",
    "plt.colorbar()\n",
    "plt.show()"
   ]
  },
  {
   "cell_type": "code",
   "execution_count": null,
   "id": "8fb1ae90",
   "metadata": {},
   "outputs": [],
   "source": []
  }
 ],
 "metadata": {
  "kernelspec": {
   "display_name": "Python 3 (ipykernel)",
   "language": "python",
   "name": "python3"
  },
  "language_info": {
   "codemirror_mode": {
    "name": "ipython",
    "version": 3
   },
   "file_extension": ".py",
   "mimetype": "text/x-python",
   "name": "python",
   "nbconvert_exporter": "python",
   "pygments_lexer": "ipython3",
   "version": "3.10.4"
  }
 },
 "nbformat": 4,
 "nbformat_minor": 5
}
