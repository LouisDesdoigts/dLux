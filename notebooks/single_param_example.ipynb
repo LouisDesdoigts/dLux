{
 "cells": [
  {
   "cell_type": "code",
   "execution_count": 1,
   "id": "56eaf894-ec4c-42f9-935a-0bc1c1816ee3",
   "metadata": {},
   "outputs": [],
   "source": [
    "import jax\n",
    "from jax.config import config\n",
    "config.update(\"jax_enable_x64\", True)"
   ]
  },
  {
   "cell_type": "code",
   "execution_count": 2,
   "id": "6aa0a45e-8507-4013-b369-1cd464322422",
   "metadata": {},
   "outputs": [
    {
     "name": "stderr",
     "output_type": "stream",
     "text": [
      "/Users/benpope/opt/anaconda3/envs/dlux/lib/python3.9/site-packages/equinox/custom_types.py:112: FutureWarning: jax.tree_structure is deprecated, and will be removed in a future release. Use jax.tree_util.tree_structure instead.\n",
      "  TreeDef = type(jax.tree_structure(0))\n",
      "/Users/benpope/opt/anaconda3/envs/dlux/lib/python3.9/site-packages/chex-0.1.3-py3.9.egg/chex/_src/pytypes.py:37: FutureWarning: jax.tree_structure is deprecated, and will be removed in a future release. Use jax.tree_util.tree_structure instead.\n",
      "  PyTreeDef = type(jax.tree_structure(None))\n"
     ]
    },
    {
     "ename": "ModuleNotFoundError",
     "evalue": "No module named 'poppy'",
     "output_type": "error",
     "traceback": [
      "\u001b[0;31m---------------------------------------------------------------------------\u001b[0m",
      "\u001b[0;31mModuleNotFoundError\u001b[0m                       Traceback (most recent call last)",
      "Input \u001b[0;32mIn [2]\u001b[0m, in \u001b[0;36m<cell line: 8>\u001b[0;34m()\u001b[0m\n\u001b[1;32m      6\u001b[0m \u001b[38;5;28;01mimport\u001b[39;00m \u001b[38;5;21;01mfunctools\u001b[39;00m \u001b[38;5;28;01mas\u001b[39;00m \u001b[38;5;21;01mft\u001b[39;00m \u001b[38;5;66;03m# used for filtering\u001b[39;00m\n\u001b[1;32m      7\u001b[0m \u001b[38;5;28;01mfrom\u001b[39;00m \u001b[38;5;21;01mtqdm\u001b[39;00m\u001b[38;5;21;01m.\u001b[39;00m\u001b[38;5;21;01mnotebook\u001b[39;00m \u001b[38;5;28;01mimport\u001b[39;00m tqdm\n\u001b[0;32m----> 8\u001b[0m \u001b[38;5;28;01mimport\u001b[39;00m \u001b[38;5;21;01mpoppy\u001b[39;00m\n",
      "\u001b[0;31mModuleNotFoundError\u001b[0m: No module named 'poppy'"
     ]
    }
   ],
   "source": [
    "import jax.numpy as np\n",
    "import numpy as onp\n",
    "import matplotlib.pyplot as plt\n",
    "import equinox as eqx\n",
    "import optax\n",
    "import functools as ft # used for filtering\n",
    "from tqdm.notebook import tqdm\n",
    "import poppy"
   ]
  },
  {
   "cell_type": "code",
   "execution_count": null,
   "id": "0960b592-c608-4051-be76-80b10372fa0d",
   "metadata": {},
   "outputs": [],
   "source": [
    "plt.figure() # this need to be run to make this work properly\n",
    "plt.show()\n",
    "plt.rcParams['figure.dpi'] = 120\n",
    "plt.rcParams['image.cmap'] = 'hot'\n",
    "plt.rcParams[\"text.usetex\"] = 'true'\n",
    "# plt.rcParams.keys()"
   ]
  },
  {
   "cell_type": "code",
   "execution_count": null,
   "id": "6de7a557-3600-437f-a4e9-423cebcf09fb",
   "metadata": {},
   "outputs": [],
   "source": [
    "from dLux.base import *\n",
    "from dLux.layers import *\n",
    "from dLux.propagators import *"
   ]
  },
  {
   "cell_type": "markdown",
   "id": "6d071504-2869-4762-8e34-28411f3500b1",
   "metadata": {},
   "source": [
    "### To start, if you havent, please read over [our doccumetation](https://louisdesdoigts.github.io/dLux/) to get the basics of $\\partial$Lux, primarily Layers and `OpticalSystem()`\n",
    "\n",
    "\n",
    "---\n",
    "\n",
    "# Optimising a single parameter!\n",
    "\n",
    "We will start exploring the use of $\\partial$Lux be optimising a single parameter. We will do this by generating a PSF using poppy and then fitting that PSF using a $\\partial$Lux model.\n",
    "\n",
    "The poppy example we will use models the PSF in the far-field regieme exclusinvely in angular units, and is therefore agnostic to focal length and pixelsize. We will guess approximate values for these paramters and then optimise our $\\partial$Lux model to find the equivilent focal length based on our pixelsize value.\n",
    "\n",
    "This poppy model is taken from this [link](https://poppy-optics.readthedocs.io/en/latest/figures/README%20Figure.html)"
   ]
  },
  {
   "cell_type": "code",
   "execution_count": null,
   "id": "7b653289-be3d-4dbc-a47f-d7fc9dd322cc",
   "metadata": {},
   "outputs": [],
   "source": [
    "# Define parameter needed for poppy\n",
    "wl = 1.5e-6\n",
    "aperture = 2.4 \n",
    "pixsize_arcsec = 0.013\n",
    "fov_arcsec = 3.0\n",
    "wf_npix = 1024       \n",
    "det_npix = np.round(2*fov_arcsec/pixsize_arcsec).astype(int)"
   ]
  },
  {
   "cell_type": "code",
   "execution_count": null,
   "id": "134acc7c-b466-4b8c-b58e-cbe74343b4a3",
   "metadata": {},
   "outputs": [],
   "source": [
    "# Set up poppy optical system\n",
    "hst_osys_p = poppy.OpticalSystem()\n",
    "hst_aper = poppy.CompoundAnalyticOptic(opticslist=[\n",
    "    poppy.SecondaryObscuration(secondary_radius=0.3, n_supports=4, support_width=0.1),\n",
    "    poppy.CircularAperture(radius=aperture/2)])\n",
    "hst_osys_p.add_pupil(hst_aper)\n",
    "hst_osys_p.add_detector(pixelscale=pixsize_arcsec, fov_arcsec=fov_arcsec)"
   ]
  },
  {
   "cell_type": "code",
   "execution_count": null,
   "id": "4b9d2767-9c28-4c1b-b506-bfebfeba6320",
   "metadata": {},
   "outputs": [],
   "source": [
    "# Generate poppy PSF and get the aperture array to apply to our mode\n",
    "hst_fits, intermediates = hst_osys_p.calc_psf(wl, return_intermediates=True)\n",
    "hst_psf_p = np.flipud(np.flipud(hst_fits[0].data).T) # Flip to match ∂Lux\n",
    "hst_ap = np.array(intermediates[0].amplitude) # Take aperture for ∂Lux\n",
    "osamp = intermediates[-1].oversample"
   ]
  },
  {
   "cell_type": "markdown",
   "id": "ca8431a3-927a-44d5-b069-d46f43a9e74c",
   "metadata": {},
   "source": [
    "### Now we create out ∂Lux object"
   ]
  },
  {
   "cell_type": "code",
   "execution_count": null,
   "id": "c4b3ee59-0801-48ee-a2a4-54ca73d7276a",
   "metadata": {},
   "outputs": [],
   "source": [
    "# Define approximate fl and pixelsize, we will optimise the fl to match poppy\n",
    "fl = 57.6  # Approximate the fl, this is what we will learn\n",
    "det_pixsize = 4e-9 # Approximate value, this will be fixed\n",
    "\n",
    "hst_layers = [\n",
    "    CreateWavefront(wf_npix, wf_npix),\n",
    "    ApplyAperture(hst_ap),\n",
    "    NormaliseWavefront(),\n",
    "    PhysicalMFT(pixels_out=det_npix, focal_length=fl, \n",
    "        pixel_scale_out=det_pixsize, inverse=False)]\n",
    "\n",
    "wavels = np.array([wl])\n",
    "hst = OpticalSystem(hst_layers, wavels=wavels)\n",
    "psf = hst()"
   ]
  },
  {
   "cell_type": "code",
   "execution_count": null,
   "id": "39eebea8",
   "metadata": {},
   "outputs": [],
   "source": [
    "plt.figure(figsize=(15, 4))\n",
    "plt.subplot(1, 3, 1)\n",
    "plt.title(\"Poppy PSF\")\n",
    "plt.imshow(hst_psf_p**0.5)\n",
    "plt.colorbar()\n",
    "\n",
    "plt.subplot(1, 3, 2)\n",
    "plt.title(\"$\\partial$Lux PSF\")\n",
    "plt.imshow(psf**0.5)\n",
    "plt.colorbar()\n",
    "\n",
    "norm = psf - hst_psf_p\n",
    "plt.subplot(1, 3, 3)\n",
    "plt.title(\"Residual\")\n",
    "plt.imshow(norm)\n",
    "plt.colorbar()\n",
    "plt.show()"
   ]
  },
  {
   "cell_type": "markdown",
   "id": "a724a8b2-6ac3-43f3-a934-9f7dd83507da",
   "metadata": {},
   "source": [
    "---\n",
    "\n",
    "## Optimisation\n",
    "\n",
    "So now we need to set up our optimisation objects. One major benfit of ∂Lux is that it allows us to use the optimsation package developed by the deep mind team, Optax. It does mean that we need to learn a little bit more about the different obects in order to get everything to play nicely.\n",
    "\n",
    "Firstly we need to define which parameters we want to optimise, this is done by creating a 'filter_spec' object. This can be thought of as a binary mask defining which parameters to optimise, that is not applied to an array, but an arbitrary ∂Lux model. \n",
    "\n",
    "We initialise this by defaulting all values to False:\n",
    "> ```filter_spec = jax.tree_map(lambda _: False, model)```\n",
    "\n",
    "We can then change the individual paramaters we want to optimise to `True`. In this example we only want to optimise the focal length, so we use this syntax:\n",
    "> ```filter_spec = eqx.tree_at(lambda scene: scene.layers[3].focal_length, filter_spec, replace=True)```\n",
    "\n",
    "After that, all we need to do is define our loss function and pass the `filter_spec` to our loss function decorators, and initialise our optax algorithm. In this example we will use an adam optimiser with a learning rate of 100. This is relatively straightfoward and the synax of the next few cells can be applied generally to all single-parameter optimisations"
   ]
  },
  {
   "cell_type": "code",
   "execution_count": null,
   "id": "197f1ad6-e545-41d3-8a4e-a28cdd67b47f",
   "metadata": {},
   "outputs": [],
   "source": [
    "# Set up Optimisation\n",
    "filter_spec = jax.tree_map(lambda _: False, hst)\n",
    "filter_spec = eqx.tree_at(lambda scene: scene.layers[3].focal_length, filter_spec, replace=True)"
   ]
  },
  {
   "cell_type": "code",
   "execution_count": null,
   "id": "eceadeae-f453-495c-b838-78e822a29e88",
   "metadata": {},
   "outputs": [],
   "source": [
    "@eqx.filter_jit\n",
    "@ft.partial(eqx.filter_value_and_grad, filter_spec=filter_spec)\n",
    "def loss_func(model, data):\n",
    "    out = model()\n",
    "    return np.mean(np.square(data - out))"
   ]
  },
  {
   "cell_type": "code",
   "execution_count": null,
   "id": "3b79859d-416b-46f4-b04f-695389eaabf9",
   "metadata": {},
   "outputs": [],
   "source": [
    "%%time\n",
    "_ = loss_func(hst, hst_psf_p) # Compile\n",
    "print(\"Initial Loss: {}\".format(_[0]))"
   ]
  },
  {
   "cell_type": "code",
   "execution_count": null,
   "id": "5d9a37a4-0b54-40c1-8f5b-9f4a8c900c6d",
   "metadata": {},
   "outputs": [],
   "source": [
    "optim = optax.adam(1e2)\n",
    "opt_state = optim.init(hst)"
   ]
  },
  {
   "cell_type": "code",
   "execution_count": null,
   "id": "0bae084f-c251-41fb-9a0a-8fb818aacd45",
   "metadata": {
    "scrolled": true
   },
   "outputs": [],
   "source": [
    "model = OpticalSystem(hst_layers, wavels=wavels)\n",
    "errors, grads_out, models_out = [], [], []\n",
    "for i in tqdm(range(750)):\n",
    "    loss, grads = loss_func(model, hst_psf_p)\n",
    "    updates, opt_state = optim.update(grads, opt_state)\n",
    "    model = eqx.apply_updates(model, updates)\n",
    "    models_out.append(model)\n",
    "    errors.append(loss)\n",
    "    grads_out.append(grads)"
   ]
  },
  {
   "cell_type": "code",
   "execution_count": null,
   "id": "0daa05e1-6588-48fd-aca9-e5989800088f",
   "metadata": {},
   "outputs": [],
   "source": [
    "initial_psf = hst()\n",
    "final_psf = model()\n",
    "\n",
    "plt.figure(figsize=(15, 8))\n",
    "\n",
    "plt.subplot(2, 3, (1,2))\n",
    "plt.title(\"Error\")\n",
    "plt.plot(np.arange(len(errors)), np.log10(np.array(errors)))\n",
    "# plt.plot(np.arange(len(errors)), np.array(errors))\n",
    "\n",
    "\n",
    "plt.subplot(2, 3, 3)\n",
    "plt.title(\"Poppy PSF\")\n",
    "plt.imshow(hst_psf_p**0.5)\n",
    "plt.colorbar()\n",
    "\n",
    "plt.subplot(2, 3, 4)\n",
    "plt.title(\"Initial PSF\")\n",
    "plt.imshow(initial_psf**0.5)\n",
    "plt.colorbar()\n",
    "\n",
    "plt.subplot(2, 3, 5)\n",
    "plt.title(\"Found PSF\")\n",
    "plt.imshow(final_psf**0.5)\n",
    "plt.colorbar()\n",
    "\n",
    "plt.subplot(2, 3, 6)\n",
    "residual = hst_psf_p-final_psf\n",
    "plt.title(\"Final Residual\")\n",
    "plt.imshow(residual)\n",
    "plt.colorbar()\n",
    "plt.show()"
   ]
  },
  {
   "cell_type": "code",
   "execution_count": null,
   "id": "4fd07c1a-dfb1-46b8-98ed-fa3c42702d33",
   "metadata": {},
   "outputs": [],
   "source": [
    "fls = [o.layers[3].focal_length for o in models_out]\n",
    "# plt.plot(np.log10(np.array(fls)))\n",
    "plt.plot(fls)"
   ]
  },
  {
   "cell_type": "code",
   "execution_count": null,
   "id": "2072fada-530b-4e9f-8a36-a5498b152dd2",
   "metadata": {},
   "outputs": [],
   "source": [
    "print(np.allclose(hst_psf_p, final_psf))"
   ]
  },
  {
   "cell_type": "markdown",
   "id": "a5da4358-44a6-4154-b69e-eb5a539d2570",
   "metadata": {},
   "source": [
    "### Beauty! As we can see we have found the equivalent focal length required to match the poppy psf, and the difference between the two is at the machine precision level!"
   ]
  }
 ],
 "metadata": {
  "kernelspec": {
   "display_name": "Python [conda env:dlux]",
   "language": "python",
   "name": "conda-env-dlux-py"
  },
  "language_info": {
   "codemirror_mode": {
    "name": "ipython",
    "version": 3
   },
   "file_extension": ".py",
   "mimetype": "text/x-python",
   "name": "python",
   "nbconvert_exporter": "python",
   "pygments_lexer": "ipython3",
   "version": "3.9.12"
  }
 },
 "nbformat": 4,
 "nbformat_minor": 5
}
