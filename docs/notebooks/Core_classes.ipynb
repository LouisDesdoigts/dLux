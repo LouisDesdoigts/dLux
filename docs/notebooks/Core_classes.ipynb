{
 "cells": [
  {
   "cell_type": "markdown",
   "id": "2b1cccc8-d318-47c8-8f1e-3819c02a207b",
   "metadata": {},
   "source": [
    "# ∂Lux Overview!\n",
    "\n",
    "This tutorial is designed to give users a gentle introduction to ∂Lux, how it works and how to use it! Unfortunatly it is still under development, but please check out all of our other tutorials, which still show how to use ∂Lux!"
   ]
  },
  {
   "cell_type": "code",
   "execution_count": null,
   "id": "bf61ddca-d177-44d8-8c25-beefdcc40b1f",
   "metadata": {},
   "outputs": [],
   "source": []
  }
 ],
 "metadata": {
  "kernelspec": {
   "display_name": "Python 3 (ipykernel)",
   "language": "python",
   "name": "python3"
  },
  "language_info": {
   "codemirror_mode": {
    "name": "ipython",
    "version": 3
   },
   "file_extension": ".py",
   "mimetype": "text/x-python",
   "name": "python",
   "nbconvert_exporter": "python",
   "pygments_lexer": "ipython3",
   "version": "3.10.4"
  }
 },
 "nbformat": 4,
 "nbformat_minor": 5
}
